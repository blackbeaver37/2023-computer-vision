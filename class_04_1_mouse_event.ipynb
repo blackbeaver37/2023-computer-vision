{
 "cells": [
  {
   "cell_type": "markdown",
   "metadata": {},
   "source": [
    "# <center> 👉 class_04_1 » _Mouse Event_ </center>"
   ]
  },
  {
   "cell_type": "markdown",
   "metadata": {},
   "source": [
    "# ▣ Mouse as a Paint Brush  \n",
    "Using OpenCV, we have an option to use the mouse as a paint brush or a drawing tool.   \n",
    "\n",
    "- Whenever any mouse event occurs on the window screen, it gives us the coordinates (x,y) for that particular mouse event.   \n",
    "- Now that we have the coordinates of the point we are interested in, we can draw anything we desire, be it a circle or a rectangle or a simple line.   \n",
    "\n",
    "First let us see the available mouse events."
   ]
  },
  {
   "cell_type": "markdown",
   "metadata": {},
   "source": [
    "## ▶ Mouse Event  \n",
    "\n",
    "OpenCV also provides the functionality to control and manage different types of mouse events and gives us the flexibility to manage them.   \n",
    "As we know there can be different types of **mouse events**   \n",
    "- such as double_click,   \n",
    "- left button click,   \n",
    "- right button click, etc.  \n",
    "\n",
    "For managing these events, we need to design **callback functions** for each of these mouse click events while the window or frame is opened by OpenCV.  \n",
    "The callback function gives us flexibility to implement what type of functionality you want with a particular mouse click event.  \n",
    "\n",
    "* Callback Functions :  \n",
    ">- It receives other functions through parameters, and is responsible for calling the function passed in parameters when an event occurs.  \n",
    ">- That is, a function that executes a different function when a particular event occurs.    \n",
    ">- 매개 변수를 통해 다른 함수를 전달 받고, 이벤트가 발생할 때 매개 변수에 전달된 함수를 호출하는 역할을 합니다.\n",
    ">- 즉, 특정한 이벤트가 발생하면 다른 함수를 실행하는 함수입니다.\n",
    "\n",
    "* Mouse Events :  \n",
    ">- When a mouse event occurs in a window, it sends the event to a specific function to execute it.  \n",
    ">- cv2.setMouseCallback(windowName, onMouse, param=None)   \n",
    ">- 윈도우에 마우스 이벤트가 발생했을 때, 특정한 함수에 이벤트를 전달해 실행합니다.\n",
    "\n",
    "~ Syntax:  \n",
    "    \n",
    "- **cv2.setMouseCallback(windowName, onMouse, param=None)**    \n",
    "\n",
    "~ Parameters:  \n",
    "\n",
    "- windowName: window name\n",
    "- onMouse: mouse callback function\n",
    ">- onMouse(evnet, x, y, flags, param) call back function  handles the mouse's events and mouse coordinates.   \n",
    ">- flags allow you to handle events as if you were holding down keys such as controls, shifts, and alts together.     \n",
    ">- Even if you do not use flags and param, you must include flags and param in the callback function declaration.     \n",
    "\n",
    "\n",
    "### ● Events  \n",
    "|<center>NAME</center>|<center>FUNCTION</center>|\n",
    "|----------------------|------------------|\n",
    "|EVENT_MOUSEMOVE|When the mouse pointer moves over a window|\n",
    "|EVENT_LBUTTONDOWN|Left BUTTON DOWN|\n",
    "|EVENT_MBUTTONDOWN|Middle BUTTON DOWN|\n",
    "|EVENT_RBUTTONDOWN|Right BUTTON DOWN|\n",
    "|EVENT_LBUTTONUP|Left BUTTON up|\n",
    "|EVENT_MBUTTONUP|Middle BUTTON up|\n",
    "|EVENT_RBUTTONUP|Right BUTTON up|\n",
    "|EVENT_LBUTTONDBLCLK|Left BUTTON DBL CLK|\n",
    "|EVENT_MBUTTONDBLCLK|Middle BUTTON DBL CLK|\n",
    "|EVENT_RBUTTONDBLCLK|Right BUTTON DBL CLK|\n",
    "|EVENT_MOUSEWHEEL|When using mouse scrolling up and down|\n",
    "|EVENT_MOUSEHWHEEL|When using mouse scrolling left and right|\n",
    "\n",
    "### ● Flags  \n",
    "\n",
    "|<center>NAME</center>|<center>FUNCTION</center>|\n",
    "|----------------------|------------------|\n",
    "|EVENT_FLAG_LBUTTON|The left mouse button is pressed|\n",
    "|EVENT_FLAG_MBUTTON|The mdl mouse button is pressed|\n",
    "|EVENT_FLAG_RBUTTON|The right mouse button is pressed|\n",
    "|EVENT_FLAG_CTRLKEY|The CTRL KEY button is pressed|\n",
    "|EVENT_FLAG_SHIFTKEY|The SHIFT KEY button is pressed|\n",
    "|EVENT_FLAG_ALTKEY|The ALT KEY button is pressed|\n",
    "|flags > 0|The upward or right-hand orientation of the mouse scroll event|\n",
    "|flags < 0|The downward or left-hand orientation of the mouse scroll event|"
   ]
  },
  {
   "cell_type": "code",
   "execution_count": null,
   "metadata": {},
   "outputs": [],
   "source": [
    "# Event code\n",
    "import cv2 as cv\n",
    "events = [i for i in dir(cv) if 'EVENT' in i]\n",
    "print(events) # all events"
   ]
  },
  {
   "cell_type": "markdown",
   "metadata": {},
   "source": [
    "Output:  \n",
    "[‘EVENT_FLAG_ALTKEY’, ‘EVENT_FLAG_CTRLKEY’, ‘EVENT_FLAG_LBUTTON’, ‘EVENT_FLAG_MBUTTON’, ‘EVENT_FLAG_RBUTTON’, ‘EVENT_FLAG_SHIFTKEY’, ‘EVENT_LBUTTONDBLCLK’, ‘EVENT_LBUTTONDOWN’, ‘EVENT_LBUTTONUP’, ‘EVENT_MBUTTONDBLCLK’, ‘EVENT_MBUTTONDOWN’, ‘EVENT_MBUTTONUP’, ‘EVENT_MOUSEHWHEEL’, ‘EVENT_MOUSEMOVE’, ‘EVENT_MOUSEWHEEL’, ‘EVENT_RBUTTONDBLCLK’, ‘EVENT_RBUTTONDOWN’, ‘EVENT_RBUTTONUP’]"
   ]
  },
  {
   "cell_type": "code",
   "execution_count": null,
   "metadata": {},
   "outputs": [],
   "source": [
    "### ■ Moving the Window"
   ]
  },
  {
   "cell_type": "code",
   "execution_count": 1,
   "metadata": {},
   "outputs": [],
   "source": [
    "# Moving the Window ( h:left, j:down, k:up, l:right)\n",
    "import cv2\n",
    "\n",
    "img_file = \"./images/girl.jpg\" \n",
    "img = cv2.imread(img_file) \n",
    "title = 'IMG'                   # Window name \n",
    "x, y = 500, 100                 # original psn\n",
    "\n",
    "while True:\n",
    "    cv2.imshow(title, img)\n",
    "    cv2.moveWindow(title, x, y)\n",
    "    key = cv2.waitKey(0) & 0xFF \n",
    "#     print(key, chr(key))        \n",
    "    if key == ord('h'):         # 'h' : move the window left\n",
    "        x -= 10\n",
    "    elif key == ord('j'):       # 'j' move the window down\n",
    "        y += 10\n",
    "    elif key == ord('k'):       # 'k' move the window up\n",
    "        y -= 10\n",
    "    elif key == ord('l'):       # 'l' move the window right\n",
    "        x += 10\n",
    "    elif key == ord('q') or key == 27: # 'q' or'esc' \n",
    "        cv2.destroyAllWindows()\n",
    "        break\n",
    "    cv2.moveWindow(title, x, y )   # move new psn"
   ]
  },
  {
   "cell_type": "markdown",
   "metadata": {},
   "source": [
    "### ■ Drawing Circles with Various Radius and Changing Color \n",
    "- mouse wheel scroll : inc or dec radius, \n",
    "- use ctrl, shift key: to change colors"
   ]
  },
  {
   "cell_type": "code",
   "execution_count": 3,
   "metadata": {},
   "outputs": [],
   "source": [
    "# Drawing Various Radius and Color Circle on Window \n",
    "import cv2\n",
    "import numpy as np\n",
    "\n",
    "colors = {'black':(0,0,0),'red':(0,0,255),'blue':(255,0,0),'green':(0,255,0),'yellow':(0,255,255)}\n",
    "\n",
    "def mouse_event(event, x, y, flags, param):\n",
    "    global radius\n",
    "    \n",
    "    color = colors['yellow']\n",
    "    \n",
    "    if event == cv2.EVENT_LBUTTONDOWN:   # cv2.EVENT_LBUTTONDOWN cv2.EVENT_FLAG_LBUTTON\n",
    "        if flags & cv2.EVENT_FLAG_CTRLKEY and flags & cv2.EVENT_FLAG_SHIFTKEY : # ctrl + shift\n",
    "            color = colors['green']\n",
    "        elif flags & cv2.EVENT_FLAG_SHIFTKEY : # shift\n",
    "            color = colors['blue']\n",
    "        elif flags & cv2.EVENT_FLAG_CTRLKEY : # ctrl\n",
    "            color = colors['red']        \n",
    "        cv2.circle(img, (x, y), radius, color, 2) # black circle\n",
    "        cv2.imshow(\"draw\", img)\n",
    "\n",
    "    elif event == cv2.EVENT_MOUSEWHEEL: \n",
    "        if flags > 0: # radius inc\n",
    "            radius += 1\n",
    "        elif radius > 1: # minimum radius = 1\n",
    "            radius -= 1\n",
    "\n",
    "radius = 3\n",
    "img = np.full((500, 500, 3), 127, dtype=np.uint8) # gray window\n",
    "# img= cv2.imread('./images/blank_500.jpg')\n",
    "\n",
    "cv2.imshow(\"draw\", img)\n",
    "cv2.setMouseCallback(\"draw\", mouse_event, img)\n",
    "cv2.waitKey()\n",
    "cv2.destroyAllWindows()"
   ]
  },
  {
   "cell_type": "markdown",
   "metadata": {},
   "source": [
    "### ■ Fixed radius fill circle "
   ]
  },
  {
   "cell_type": "code",
   "execution_count": null,
   "metadata": {},
   "outputs": [],
   "source": [
    "# fixed fill circle\n",
    "import cv2\n",
    "\n",
    "title = 'draw'                   \n",
    "img = cv2.imread('./images/blank_500.jpg') \n",
    "# src = np.full((500, 500, 3), 0, dtype=np.uint8)\n",
    "\n",
    "cv2.imshow(title, img)                  \n",
    "\n",
    "colors = {'black':(0,0,0),'red' : (0,0,255),'blue':(255,0,0),'green': (0,255,0) } \n",
    "\n",
    "def mouse_event(event, x, y, flags, param): \n",
    "#     print(event, x, y, flags)                \n",
    "    color = colors['black']\n",
    "    if event == cv2.EVENT_LBUTTONDOWN:  \n",
    "        if flags & cv2.EVENT_FLAG_CTRLKEY and flags & cv2.EVENT_FLAG_SHIFTKEY : # ctrl + shift\n",
    "            color = colors['green']\n",
    "        elif flags & cv2.EVENT_FLAG_SHIFTKEY : # shift\n",
    "            color = colors['blue']\n",
    "        elif flags & cv2.EVENT_FLAG_CTRLKEY : # ctrl\n",
    "            color = colors['red']\n",
    "        cv2.circle(img, (x,y), 30, color, -1) \n",
    "        cv2.imshow(title, img)          \n",
    "\n",
    "cv2.setMouseCallback(title, mouse_event)    \n",
    "\n",
    "while True:\n",
    "    if cv2.waitKey(0) & 0xFF == 27:     \n",
    "        break\n",
    "cv2.destroyAllWindows()"
   ]
  },
  {
   "cell_type": "markdown",
   "metadata": {},
   "source": [
    "### ■ Display mouse coordinates (x, y) & color pxl numbers"
   ]
  },
  {
   "cell_type": "code",
   "execution_count": 1,
   "metadata": {},
   "outputs": [],
   "source": [
    "# display mouse coordinates \n",
    "import cv2\n",
    "\n",
    "def click_event(event, x, y, flags, params):\n",
    "\n",
    "    if event == cv2.EVENT_LBUTTONDOWN: # checking for left mouse clicks\n",
    "\n",
    "#         print(x, ' ', y) # print the coordinates \n",
    "        font = cv2.FONT_HERSHEY_SIMPLEX\n",
    "        cv2.putText(img, str(x) + ',' + str(y), (x,y), font,1, (0, 255, 255), 2) # displaying the coordinates on the image window\n",
    "        cv2.imshow('image', img)\n",
    "\n",
    "    if event==cv2.EVENT_RBUTTONDOWN: # checking for right mouse clicks\n",
    "#         print(x, ' ', y)\n",
    "\n",
    "        font = cv2.FONT_HERSHEY_SIMPLEX\n",
    "        b = img[y, x, 0]\n",
    "        g = img[y, x, 1]\n",
    "        r = img[y, x, 2]\n",
    "        cv2.putText(img, str(b) + ',' + str(g) + ',' + str(r),(x,y), font, 1,(255,255,0), 2) # 2,0,178\n",
    "        cv2.imshow('image', img)\n",
    "\n",
    "img = cv2.imread('./images/practice_img/pencil_small.jpg', 1)\n",
    "cv2.imshow('image', img)\n",
    "cv2.setMouseCallback('image', click_event)\n",
    "\n",
    "cv2.waitKey(0)\n",
    "cv2.destroyAllWindows()"
   ]
  },
  {
   "cell_type": "code",
   "execution_count": null,
   "metadata": {},
   "outputs": [],
   "source": []
  }
 ],
 "metadata": {
  "kernelspec": {
   "display_name": "py3.7_YOLO",
   "language": "python",
   "name": "yolo"
  },
  "language_info": {
   "codemirror_mode": {
    "name": "ipython",
    "version": 3
   },
   "file_extension": ".py",
   "mimetype": "text/x-python",
   "name": "python",
   "nbconvert_exporter": "python",
   "pygments_lexer": "ipython3",
   "version": "3.7.16"
  }
 },
 "nbformat": 4,
 "nbformat_minor": 2
}
