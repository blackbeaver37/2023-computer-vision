{
 "cells": [
  {
   "cell_type": "markdown",
   "metadata": {},
   "source": [
    "# <center> 👉 class_03_4 IP » _Color Spaces, Map_ </center>\n",
    "https://learnopencv.com/color-spaces-in-opencv-cpp-python/\n",
    "\n",
    "# ▣ Color Spaces More\n",
    "\n",
    "In this class, we will cover some important color spaces used in computer vision.   \n",
    "Instead, we will develop a basic intuition and learn some important properties which will be useful in making decisions later on.\n",
    "\n",
    "Let us load 2 images of the same cube.   \n",
    "- It will get loaded in BGR format by default.   \n",
    "- We can convert between different colorspaces using the OpenCV function cvtColor()."
   ]
  },
  {
   "cell_type": "code",
   "execution_count": null,
   "metadata": {},
   "outputs": [],
   "source": [
    "import cv2\n",
    "import matplotlib.pyplot as plt\n",
    "import numpy as np\n",
    "\n",
    "cubic_brgt_BGR = cv2.imread('./images/cubic.png')\n",
    "cubic_brgt_RGB = cv2.cvtColor(cubic_brgt_BGR, cv2.COLOR_BGR2RGB)\n",
    "cubic_dark_BGR = cv2.imread('./images/cubic_dark.png')\n",
    "cubic_dark_RGB = cv2.cvtColor(cubic_dark_BGR, cv2.COLOR_BGR2RGB)"
   ]
  },
  {
   "cell_type": "code",
   "execution_count": null,
   "metadata": {},
   "outputs": [],
   "source": [
    "from matplotlib.pyplot import figure\n",
    "figure(figsize=(15, 10), dpi=100)\n",
    "\n",
    "plt.subplot(141),plt.imshow(cubic_brgt_BGR),plt.title('cubic_brgt_BGR'),plt.axis('off')\n",
    "plt.subplot(142),plt.imshow(cubic_dark_BGR),plt.title('cubic_dark_BGR'),plt.axis('off')\n",
    "plt.subplot(143),plt.imshow(cubic_brgt_RGB),plt.title('cubic_brgt_RGB'),plt.axis('off')\n",
    "plt.subplot(144),plt.imshow(cubic_dark_RGB),plt.title('cubic_dark_RGB'),plt.axis('off')\n",
    "plt.show()"
   ]
  },
  {
   "cell_type": "markdown",
   "metadata": {},
   "source": [
    "Two images of the same cube taken under different illumination  \n",
    "\n",
    "<img src = '../images/2cubes.webp' width=400 height=400>"
   ]
  },
  {
   "cell_type": "markdown",
   "metadata": {},
   "source": [
    "## ▶ The RGB Color Space (OpenCV use BGR color Space)   \n",
    "The RGB colorspace has the following properties\n",
    "\n",
    "It is an additive colorspace where colors are obtained by a linear combination of Red, Green, and Blue values.  \n",
    "- The three channels are correlated by the amount of light hitting the surface.  \n",
    "Let us split the two images into their R, G and B components and observe them to gain more insight into the color space."
   ]
  },
  {
   "cell_type": "code",
   "execution_count": null,
   "metadata": {},
   "outputs": [],
   "source": [
    "fig, axs = plt.subplots(1,4,figsize=(15,10))\n",
    "axs[0].imshow(cubic_brgt_BGR), axs[0].axis('off'), axs[0].set_title('cubic_brgt_BGR')\n",
    "axs[1].imshow(cubic_brgt_RGB), axs[1].axis('off'), axs[1].set_title('cubic_brgt_RGB')\n",
    "axs[2].imshow(cubic_dark_BGR), axs[2].axis('off'), axs[2].set_title('cubic_dark_BGR')\n",
    "axs[3].imshow(cubic_dark_RGB), axs[3].axis('off'), axs[3].set_title('cubic_dark_RGB')\n",
    "plt.show()"
   ]
  },
  {
   "cell_type": "markdown",
   "metadata": {},
   "source": [
    "Observations  \n",
    "\n",
    "- If you look at the blue channel, it can be seen that the blue and white pieces look similar in the second image under indoor lighting conditions but there is a clear difference in the first image.   \n",
    "- This kind of non-uniformity makes color based segmentation very difficult in this color space.   \n",
    "- Further, there is an overall difference between the values of the two images.   \n",
    "\n",
    "    파란색 채널을 보면 실내 조명 조건에서 두 번째 이미지에서는 파란색과 흰색 조각이 비슷하게 보이지만 첫 번째 이미지에서는 분명한 차이가 있음을 알 수 있습니다.\n",
    "    이러한 종류의 불균일성은 이 색상 공간에서 색상 기반 분할을 매우 어렵게 만듭니다.\n",
    "    또한 두 이미지의 값 사이에는 전체적으로 차이가 있습니다.\n",
    "    \n",
    "Below we have summarized the inherent problems associated with the RGB Color space:  \n",
    "    \n",
    "- significant perceptual non-uniformity.  \n",
    "- mixing of chrominance (Color related information) and luminance (Intensity related information) data.  \n",
    "\n",
    "- 색상인지에 상당한 불균일성.  \n",
    "- 색차(색상 관련 정보)와 휘도(반사강도 관련 정보) 데이터의 혼합. "
   ]
  },
  {
   "cell_type": "markdown",
   "metadata": {},
   "source": [
    "## ▶ The LAB Color-Space  \n",
    "\n",
    "The Lab color space has three components.\n",
    "\n",
    "- L – Lightness (Intensity).  \n",
    "- a – color component ranging from Green to Magenta.  \n",
    "- b – color component ranging from Blue to Yellow.  \n",
    "\n",
    "The Lab color space is quite different from the RGB color space.       \n",
    "- In RGB color space the color information is separated into three channels but the same three channels also encode brightness information.   \n",
    "- On the other hand, in Lab color space, the L channel is independent of color information and encodes brightness only.   \n",
    "- The other two channels encode color.\n",
    "\n",
    "It has the following properties.\n",
    "- Perceptually uniform color space which approximates how we perceive color.\n",
    "- Independent of device ( capturing or displaying ).\n",
    "- Used extensively in Adobe Photoshop.\n",
    "- Is related to the RGB color space by a complex transformation equation.\n",
    "Let us see the two images in the Lab color space separated into three channels."
   ]
  },
  {
   "cell_type": "code",
   "execution_count": null,
   "metadata": {},
   "outputs": [],
   "source": [
    "brightLAB = cv2.cvtColor(cubic_brgt_BGR, cv2.COLOR_BGR2LAB)\n",
    "darkLAB = cv2.cvtColor(cubic_dark_BGR, cv2.COLOR_BGR2LAB)"
   ]
  },
  {
   "cell_type": "code",
   "execution_count": null,
   "metadata": {},
   "outputs": [],
   "source": [
    "fig, axs = plt.subplots(1,2,figsize=(15,10))\n",
    "axs[0].imshow(brightLAB), axs[0].axis('off'), axs[0].set_title('brightLAB')\n",
    "axs[1].imshow(darkLAB), axs[1].axis('off'), axs[1].set_title('darkLAB')\n",
    "plt.show()"
   ]
  },
  {
   "cell_type": "markdown",
   "metadata": {},
   "source": [
    "Observations\n",
    "- It is pretty clear from the figure that the change in illumination has mostly affected the L component.  \n",
    "- The A and B components which contain the color information did not undergo massive changes.  \n",
    "- The respective values of Green, Orange and Red (which are the extremes of the A Component) has not changed in the B Component and similarly the respective values of Blue and Yellow (which are the extremes of the B Component) has not changed in the A component."
   ]
  },
  {
   "cell_type": "markdown",
   "metadata": {},
   "source": [
    "## The YCrCb Color-Space\n",
    "\n",
    "The YCrCb color space is derived from the RGB color space and has the following three compoenents.  \n",
    "- Y – Luminance or Luma component obtained from RGB after gamma correction.\n",
    "- Cr = R – Y ( how far is the red component from Luma ).\n",
    "- Cb = B – Y ( how far is the blue component from Luma ).\n",
    "\n",
    "This color space has the following properties.\n",
    "- Separates the luminance and chrominance components into different channels.\n",
    "- Mostly used in compression (of Cr and Cb components) for TV Transmission.\n",
    "- Device dependent."
   ]
  },
  {
   "cell_type": "code",
   "execution_count": null,
   "metadata": {},
   "outputs": [],
   "source": [
    "brightYCB = cv2.cvtColor(cubic_brgt_BGR, cv2.COLOR_BGR2YCrCb)\n",
    "darkYCB = cv2.cvtColor(cubic_dark_BGR, cv2.COLOR_BGR2YCrCb)\n",
    "fig, axs = plt.subplots(1,2,figsize=(15,10))\n",
    "axs[0].imshow(brightYCB), axs[0].axis('off'), axs[0].set_title('brightYCB')\n",
    "axs[1].imshow(darkYCB), axs[1].axis('off'), axs[1].set_title('darkYCB')\n",
    "plt.show()"
   ]
  },
  {
   "cell_type": "markdown",
   "metadata": {},
   "source": [
    "Observations  \n",
    "- Similar observations as LAB can be made for Intensity and color components with regard to Illumination changes.  \n",
    "- Perceptual difference between Red and Orange is less even in the outdoor image as compared to LAB.  \n",
    "- White has undergone change in all 3 components."
   ]
  },
  {
   "cell_type": "markdown",
   "metadata": {},
   "source": [
    "## The HSV Color Space\n",
    "\n",
    "The HSV color space has the following three components:\n",
    "- H – Hue (Dominant Wavelength ).  \n",
    "- S – Saturation (Purity / shades of the color).  \n",
    "- V – Value (Intensity).  \n",
    "\n",
    "Let’s enumerate some of its properties.\n",
    "- Best thing is that it uses only one channel to describe color (H), making it very intuitive to specify color.  \n",
    "- The H, S and V components of the two images are shown below."
   ]
  },
  {
   "cell_type": "code",
   "execution_count": null,
   "metadata": {},
   "outputs": [],
   "source": [
    "brightHSV = cv2.cvtColor(cubic_brgt_BGR, cv2.COLOR_BGR2HSV)\n",
    "darkHSV = cv2.cvtColor(cubic_dark_BGR, cv2.COLOR_BGR2HSV)\n",
    "fig, axs = plt.subplots(1,2,figsize=(15,10))\n",
    "axs[0].imshow(brightHSV), axs[0].axis('off'), axs[0].set_title('brightHSV')\n",
    "axs[1].imshow(darkHSV), axs[1].axis('off'), axs[1].set_title('darkHSV')\n",
    "plt.show()"
   ]
  },
  {
   "cell_type": "markdown",
   "metadata": {},
   "source": [
    "Observations  \n",
    "- The H Component is very similar in both the images which indicates the color information is intact even under illumination changes.  \n",
    "- The S component is also very similar in both images.  \n",
    "- The V Component captures the amount of light falling on it thus it changes due to illumination changes.  \n",
    "- There is drastic difference between the values of the red piece of outdoor and Indoor image.   \n",
    "- This is because Hue is represented as a circle and red is at the starting angle.  \n",
    "- So, it may take values between [300, 360] and again [0, 60]."
   ]
  },
  {
   "cell_type": "markdown",
   "metadata": {},
   "source": [
    "This is the example code that extracts by color.    \n",
    "- cv2.inRange(hsv, lower, upper) : Of all the values in HSV, the value between the lower and upper ranges is 255, and the remaining value is converted to 0."
   ]
  },
  {
   "cell_type": "code",
   "execution_count": null,
   "metadata": {},
   "outputs": [],
   "source": [
    "# hsv_color_mask.py\n",
    "\n",
    "import cv2\n",
    "import numpy as np\n",
    "import matplotlib.pylab as plt\n",
    "\n",
    "img = cv2.imread(\"./images/cubic.png\")\n",
    "hsv = cv2.cvtColor(img, cv2.COLOR_BGR2HSV)\n",
    "\n",
    "blue1 = np.array([90, 50, 50])   # define color range \n",
    "blue2 = np.array([120, 255,255])\n",
    "green1 = np.array([45, 50,50])\n",
    "green2 = np.array([75, 255,255])\n",
    "red1 = np.array([0, 50,50])\n",
    "red2 = np.array([15, 255,255])\n",
    "red3 = np.array([165, 50,50])\n",
    "red4 = np.array([180, 255,255])\n",
    "yellow1 = np.array([20, 50,50])\n",
    "yellow2 = np.array([35, 255,255])\n",
    "\n",
    "mask_blue = cv2.inRange(hsv, blue1, blue2) # define mask\n",
    "mask_green = cv2.inRange(hsv, green1, green2)\n",
    "mask_red = cv2.inRange(hsv, red1, red2)\n",
    "mask_red2 = cv2.inRange(hsv, red3, red4)\n",
    "mask_yellow = cv2.inRange(hsv, yellow1, yellow2)\n",
    "\n",
    "res_blue = cv2.bitwise_and(img, img, mask=mask_blue) # extract defined masked - color\n",
    "res_green = cv2.bitwise_and(img, img, mask=mask_green)\n",
    "res_red1 = cv2.bitwise_and(img, img, mask=mask_red)\n",
    "res_red2 = cv2.bitwise_and(img, img, mask=mask_red2)\n",
    "res_red = cv2.bitwise_or(res_red1, res_red2)\n",
    "res_yellow = cv2.bitwise_and(img, img, mask=mask_yellow)\n",
    "\n",
    "imgs = {'original': img, 'blue':res_blue, 'green':res_green, \n",
    "                            'red':res_red, 'yellow':res_yellow}\n",
    "for i, (k, v) in enumerate(imgs.items()):\n",
    "    plt.subplot(2,3, i+1)\n",
    "    plt.title(k)\n",
    "    plt.imshow(v[:,:,::-1])\n",
    "    plt.axis('off')\n",
    "#     plt.xticks([]); plt.yticks([]) same as axis off\n",
    "plt.show()"
   ]
  },
  {
   "cell_type": "markdown",
   "metadata": {},
   "source": [
    "## ▶ Color Map"
   ]
  },
  {
   "cell_type": "markdown",
   "metadata": {},
   "source": [
    "A color map applies data in a lookup table structure to the input image.  \n",
    "It is mainly used to visualize data, and you can easily check the data with a color distribution table.  \n",
    "Since pixel values are matched 1:1, data can be mapped and expressed in linear or nonlinear structures.  \n",
    "\n",
    "    색상 맵은 입력 이미지에 Lookup table 구조로 이루어진 데이터를 적용합니다.  \n",
    "    주로 데이터를 시각화하기 위해 사용되며, 색상의 분포표로 데이터를 쉽게 확인할 수 있습니다.  \n",
    "    픽셀값이 1:1로 매칭되기 때문에 선형 구조나 비선형 구조로도 데이터를 매핑해 표현할 수 있습니다.  \n",
    "\n",
    "➡️ Color map application function : https://076923.github.io/docs/applyColorMap  \n",
    "➡️ Color Map Flags : https://076923.github.io/docs/ColormapTypes"
   ]
  },
  {
   "cell_type": "code",
   "execution_count": null,
   "metadata": {},
   "outputs": [],
   "source": [
    "import cv2\n",
    "\n",
    "src = cv2.imread(\"./images/practice_img/port.jpg\")\n",
    "dst1 = cv2.applyColorMap(src, cv2.COLORMAP_OCEAN)\n",
    "dst2 = cv2.applyColorMap(src, cv2.COLORMAP_SUMMER)\n",
    "\n",
    "cv2.imshow(\"COLORMAP_OCEAN\", dst1)\n",
    "cv2.imshow(\"COLORMAP_SUMMER\", dst2)\n",
    "cv2.waitKey()\n",
    "cv2.destroyAllWindows()"
   ]
  },
  {
   "cell_type": "code",
   "execution_count": null,
   "metadata": {},
   "outputs": [],
   "source": [
    "from matplotlib import pyplot as plt\n",
    "from matplotlib.pyplot import figure\n",
    "figure(figsize=(15, 10), dpi=100)\n",
    "\n",
    "plt.subplot(131),plt.imshow(cv2.cvtColor(src, cv2.COLOR_BGR2RGB)),plt.title('original'),plt.axis('off')\n",
    "plt.subplot(132),plt.imshow(cv2.cvtColor(dst1, cv2.COLOR_BGR2RGB)),plt.title('COLORMAP_OCEAN'),plt.axis('off')\n",
    "plt.subplot(133),plt.imshow(cv2.cvtColor(dst2, cv2.COLOR_BGR2RGB)),plt.title('COLORMAP_SUMMER'),plt.axis('off')\n",
    "plt.show()"
   ]
  },
  {
   "cell_type": "markdown",
   "metadata": {},
   "source": [
    "■ ColormapTypes  \n",
    "\n",
    "<img src='./images/practice_img/color_map_flag.png'  width=600 height=400>\n"
   ]
  },
  {
   "cell_type": "code",
   "execution_count": null,
   "metadata": {
    "scrolled": true
   },
   "outputs": [],
   "source": [
    "from matplotlib import pyplot as plt\n",
    "from matplotlib.pyplot import figure\n",
    "import cv2\n",
    "\n",
    "src = cv2.imread(\"./images/practice_img/yate.jpg\")\n",
    "# src = cv2.imread(\"./images/practice_img/snow.jpg\")\n",
    "dst1 = cv2.applyColorMap(src, cv2.COLORMAP_BONE)\n",
    "dst2 = cv2.applyColorMap(src, cv2.COLORMAP_PINK)\n",
    "figure(figsize=(15, 10), dpi=100)\n",
    "\n",
    "plt.subplot(131),plt.imshow(cv2.cvtColor(src, cv2.COLOR_BGR2RGB)),plt.title('original'),plt.axis('off')\n",
    "plt.subplot(132),plt.imshow(cv2.cvtColor(dst1, cv2.COLOR_BGR2RGB)),plt.title('COLORMAP_BONE'),plt.axis('off')\n",
    "plt.subplot(133),plt.imshow(cv2.cvtColor(dst2, cv2.COLOR_BGR2RGB)),plt.title('COLORMAP_PINK'),plt.axis('off')\n",
    "plt.show()"
   ]
  },
  {
   "cell_type": "code",
   "execution_count": null,
   "metadata": {},
   "outputs": [],
   "source": [
    "import matplotlib.cm\n",
    "matplotlib.cm.cmap_d.keys()"
   ]
  },
  {
   "cell_type": "code",
   "execution_count": null,
   "metadata": {},
   "outputs": [],
   "source": [
    "'Accent', 'Accent_r', 'Blues', 'Blues_r', 'BrBG', 'BrBG_r', 'BuGn', \n",
    "'BuGn_r', 'BuPu', 'BuPu_r', 'CMRmap', 'CMRmap_r', 'Dark2', 'Dark2_r', \n",
    "'GnBu', 'GnBu_r', 'Greens', 'Greens_r', 'Greys', 'Greys_r', 'OrRd', \n",
    "'OrRd_r', 'Oranges', 'Oranges_r', 'PRGn', 'PRGn_r', 'Paired', 'Paired_r',\n",
    "'Pastel1', 'Pastel1_r', 'Pastel2', 'Pastel2_r', 'PiYG', 'PiYG_r', 'PuBu',\n",
    "'PuBuGn', 'PuBuGn_r', 'PuBu_r', 'PuOr', 'PuOr_r', 'PuRd', 'PuRd_r', \n",
    "'Purples', 'Purples_r', 'RdBu', 'RdBu_r', 'RdGy', 'RdGy_r', 'RdPu', \n",
    "'RdPu_r', 'RdYlBu', 'RdYlBu_r', 'RdYlGn', 'RdYlGn_r', 'Reds', 'Reds_r', \n",
    "'Set1', 'Set1_r', 'Set2', 'Set2_r', 'Set3', 'Set3_r', 'Spectral', \n",
    "'Spectral_r', 'Wistia', 'Wistia_r', 'YlGn', 'YlGnBu', 'YlGnBu_r', \n",
    "'YlGn_r', 'YlOrBr', 'YlOrBr_r', 'YlOrRd', 'YlOrRd_r', 'afmhot', \n",
    "'afmhot_r', 'autumn', 'autumn_r', 'binary', 'binary_r', 'bone', 'bone_r',\n",
    "'brg', 'brg_r', 'bwr', 'bwr_r', 'cividis', 'cividis_r', 'cool', 'cool_r', \n",
    "'coolwarm', 'coolwarm_r', 'copper', 'copper_r', 'cubehelix', 'cubehelix_r', \n",
    "'flag', 'flag_r', 'gist_earth', 'gist_earth_r', 'gist_gray', 'gist_gray_r', \n",
    "'gist_heat', 'gist_heat_r', 'gist_ncar', 'gist_ncar_r', 'gist_rainbow', \n",
    "'gist_rainbow_r', 'gist_stern', 'gist_stern_r', 'gist_yarg', 'gist_yarg_r',\n",
    "'gnuplot', 'gnuplot2', 'gnuplot2_r', 'gnuplot_r', 'gray', 'gray_r', 'hot', \n",
    "'hot_r', 'hsv', 'hsv_r', 'inferno', 'inferno_r', 'jet', 'jet_r', 'magma', \n",
    "'magma_r', 'nipy_spectral', 'nipy_spectral_r', 'ocean', 'ocean_r', 'pink', \n",
    "'pink_r', 'plasma', 'plasma_r', 'prism', 'prism_r', 'rainbow', 'rainbow_r', \n",
    "'seismic', 'seismic_r', 'spring', 'spring_r', 'summer', 'summer_r', 'tab10',\n",
    "'tab10_r', 'tab20', 'tab20_r', 'tab20b', 'tab20b_r', 'tab20c', 'tab20c_r', \n",
    "'terrain', 'terrain_r', 'turbo', 'turbo_r', 'twilight', 'twilight_r', 'twilight_shifted',\n",
    "'twilight_shifted_r', 'viridis', 'viridis_r', 'winter', 'winter_r'"
   ]
  },
  {
   "cell_type": "code",
   "execution_count": null,
   "metadata": {},
   "outputs": [],
   "source": []
  }
 ],
 "metadata": {
  "kernelspec": {
   "display_name": "CV-py36",
   "language": "python",
   "name": "cv_py36"
  },
  "language_info": {
   "codemirror_mode": {
    "name": "ipython",
    "version": 3
   },
   "file_extension": ".py",
   "mimetype": "text/x-python",
   "name": "python",
   "nbconvert_exporter": "python",
   "pygments_lexer": "ipython3",
   "version": "3.6.13"
  }
 },
 "nbformat": 4,
 "nbformat_minor": 2
}
