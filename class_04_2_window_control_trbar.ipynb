{
 "cells": [
  {
   "cell_type": "markdown",
   "metadata": {},
   "source": [
    "# <center>👉 class_04_2 » _Window_control - Blending, Trackbar, Multi Windows_</center>\n",
    "\n",
    "# ▣ Window Control   \n",
    "https://www.geeksforgeeks.org/opening-multiple-color-windows-to-capture-using-opencv-in-python/"
   ]
  },
  {
   "cell_type": "markdown",
   "metadata": {},
   "source": [
    "## ■ **cv2.namedWindow(winname, flags)**  \n",
    "\n",
    "creates a window with the name winname\n",
    "\n",
    "~ Syntax:  \n",
    "    \n",
    "- **cv2.namedWindow(winname, flags)** : creates a window with the name winname.   \n",
    "\n",
    "~ Parameters:  \n",
    "    \n",
    ">- winname: \n",
    ">- flags: \n",
    ">>- cv2.WINDOW_NORMAL: Allows the user to resize the window\n",
    ">>- cv2.WINDOW_AUTOSIZE: Can't resize a window to the same size as the image   \n",
    ">> ※ There is **a special case** where you can already create a window and load image to it later.   \n",
    ">>>- In that case, you can specify whether window is resizable or not.   \n",
    ">>>- It is done with the function cv2.namedWindow().   \n",
    ">>>- By default, the flag is cv2.WINDOW_AUTOSIZE.   \n",
    ">>>- But if you specify flag to be cv2.WINDOW_NORMAL, you can resize window.   \n",
    ">>>- It will be helpful when image is too large in dimension and adding track bar to windows.      "
   ]
  },
  {
   "cell_type": "markdown",
   "metadata": {},
   "source": [
    "## ■ **cv2.moveWindow(winname, x, y)**  \n",
    "\n",
    "By calling the function, you can move the window to the desired location.\n",
    "\n",
    "~ Syntax:  \n",
    "    \n",
    "- **cv2.moveWindow(winname, x, y)** : move the window to the desired location.    \n",
    "\n",
    "~ Parameters:    \n",
    "\n",
    ">- winname: The name of the window to change the location  \n",
    ">- x, y: Where to change (x, y)  "
   ]
  },
  {
   "cell_type": "markdown",
   "metadata": {},
   "source": [
    "## ■ **cv2.resizeWindow(winname, width, hegith)**  \n",
    "\n",
    "The function changes the size of the winname window to the size of (width, height). \n",
    "\n",
    "~ Syntax:  \n",
    "    \n",
    "- **cv2.resizeWindow(winname, width, hegith)** : changes the size of the winname window to the size of (width, height).   "
   ]
  },
  {
   "cell_type": "markdown",
   "metadata": {},
   "source": [
    "## ■ **cv2.waitKey()**   \n",
    "\n",
    "is a keyboard binding function.  \n",
    "\n",
    ">- It's argument is the time in milliseconds.   \n",
    ">- The function waits for specified milliseconds for any keyboard event.   \n",
    ">- If you press any key in that time, the program continues.     \n",
    ">- If 0 is passed, it waits indefinitely for a key stroke."
   ]
  },
  {
   "cell_type": "markdown",
   "metadata": {},
   "source": [
    "## ■ **cv2.destroyWindow(winname)**  \n",
    "\n",
    "When you call the function, you close the window that corresponds to winname.  \n",
    "\n",
    "- **cv2.destroyWindow(winname)** : close the window that corresponds to winname.  \n",
    "    \n",
    "If you want to destroy any specific window, use the function cv2.destroyWindow() where you pass the exact window name as the argument.  \n",
    "    "
   ]
  },
  {
   "cell_type": "markdown",
   "metadata": {},
   "source": [
    "## ■ **cv2.destroyAllwindows()**\n",
    "\n",
    "simply destroys all the windows we created.  \n",
    "\n",
    "- **cv2.destroyAllwindows()** : simply destroys all the windows   "
   ]
  },
  {
   "cell_type": "markdown",
   "metadata": {},
   "source": [
    "## ▶ window_control Example"
   ]
  },
  {
   "cell_type": "code",
   "execution_count": null,
   "metadata": {},
   "outputs": [],
   "source": [
    "import cv2\n",
    "\n",
    "img = cv2.imread('./images/practice_img/mountain.jpg',1)  \n",
    "# print(img) # wrong path or file name don't give you any error!!! \n",
    "\n",
    "img_gray = cv2.imread('./images/practice_img/mountain.jpg', cv2.IMREAD_GRAYSCALE) \n",
    "             \n",
    "cv2.imshow('origin', img)                               \n",
    "cv2.imshow('gray', img_gray)                            \n",
    "cv2.waitKey(0)       # wait 5 sec : 5000\n",
    "cv2.destroyAllWindows()                                      "
   ]
  },
  {
   "cell_type": "code",
   "execution_count": 2,
   "metadata": {},
   "outputs": [],
   "source": [
    "img = cv2.imread('./images/practice_img/mountain.jpg',-1) \n",
    "img_gray = cv2.imread('./images/practice_img/mountain.jpg',0) \n",
    "\n",
    "cv2.namedWindow('origin')                               \n",
    "cv2.imshow('origin', img) \n",
    "cv2.namedWindow('WINDOW_NORMAL_gray', cv2.WINDOW_NORMAL)              \n",
    "cv2.namedWindow('WINDOW_AUTOSIZE_gray', cv2.WINDOW_AUTOSIZE)              \n",
    "cv2.imshow('WINDOW_NORMAL_gray', img_gray)\n",
    "cv2.imshow('WINDOW_AUTOSIZE_gray', img_gray)\n",
    "cv2.waitKey(0)                                         \n",
    "cv2.destroyAllWindows() \n",
    "\n",
    "from matplotlib import pyplot as plt\n",
    "from matplotlib.pyplot import figure\n",
    "figure(figsize=(15, 10), dpi=100)\n",
    "\n",
    "plt.subplot(131),plt.imshow(cv2.cvtColor(img, cv2.COLOR_BGR2RGB)),plt.title('original'),plt.axis('off')\n",
    "plt.subplot(132),plt.imshow(img_gray, cmap='gray'),plt.title('WINDOW_NORMAL_gray'),plt.axis('off')\n",
    "plt.subplot(133),plt.imshow(img_gray, cmap='gray'),plt.title('WINDOW_AUTOSIZE_gray'),plt.axis('off')\n",
    "plt.show()"
   ]
  },
  {
   "cell_type": "code",
   "execution_count": 11,
   "metadata": {},
   "outputs": [],
   "source": [
    "# moveWindow\n",
    "import cv2\n",
    "img = cv2.imread('./images/practice_img/mountain.jpg',-1) \n",
    "img_gray = cv2.imread('./images/practice_img/mountain.jpg',0) \n",
    "cv2.namedWindow('origin')\n",
    "cv2.namedWindow('WINDOW_NORMAL_gray', cv2.WINDOW_NORMAL)\n",
    "cv2.moveWindow('origin', 1000, 300)                          \n",
    "cv2.moveWindow('WINDOW_NORMAL_gray', 500, 600) \n",
    "cv2.imshow('origin', img)\n",
    "cv2.imshow('WINDOW_NORMAL_gray', img_gray) \n",
    "cv2.waitKey(0)                                          \n",
    "cv2.destroyAllWindows() "
   ]
  },
  {
   "cell_type": "code",
   "execution_count": 13,
   "metadata": {},
   "outputs": [],
   "source": [
    "# resizeWindow\n",
    "import cv2\n",
    "img = cv2.imread('./images/practice_img/mountain.jpg',-1) \n",
    "img_gray = cv2.imread('./images/practice_img/mountain.jpg',0)\n",
    "cv2.namedWindow('origin')\n",
    "cv2.namedWindow('WINDOW_NORMAL_gray', cv2.WINDOW_NORMAL)\n",
    "cv2.resizeWindow('origin', 200, 200)                    \n",
    "cv2.resizeWindow('WINDOW_NORMAL_gray', 100, 100)                      \n",
    "cv2.waitKey(0)                                         \n",
    "cv2.destroyAllWindows() "
   ]
  },
  {
   "cell_type": "markdown",
   "metadata": {},
   "source": [
    "## ▶ Multiple Windows"
   ]
  },
  {
   "cell_type": "code",
   "execution_count": 17,
   "metadata": {},
   "outputs": [],
   "source": [
    "img1 = cv2.imread('./images/practice_img/man_face.jpg')\n",
    "img2 = cv2.imread('./images/practice_img/actor.jpg')\n",
    "img3 = cv2.imread('./images/practice_img/boy_face.jpg')\n",
    "img4 = cv2.imread('./images/practice_img/Tom Cruise(Top Gun2).png')\n",
    "\n",
    "cv2.namedWindow('WINDOW_NORMAL', cv2.WINDOW_NORMAL)\n",
    "cv2.namedWindow('WINDOW_AUTOSIZE', cv2.WINDOW_AUTOSIZE)\n",
    "cv2.imshow('img1', img1)\n",
    "cv2.imshow('img2', img2)\n",
    "cv2.imshow('WINDOW_AUTOSIZE', img3)\n",
    "cv2.imshow('WINDOW_NORMAL', img4)\n",
    "\n",
    "cv2.waitKey(0)                                          \n",
    "cv2.destroyAllWindows() "
   ]
  },
  {
   "cell_type": "markdown",
   "metadata": {},
   "source": [
    "## ▶ Color Palette with Trackbars  \n",
    "\n",
    "It is one of the track bar scroll bars and has the form of a slider bar.   \n",
    "The track bar is used to change values within a certain range, and is used to find or change appropriate thresholds.   \n",
    "OpenCV's trackbar can be used by attaching the trackbar to the window window created.\n",
    "\n",
    "Let’s create a window which will contain RGB color palette with track bars.   \n",
    "By moving the trackbars the value of RGB Colors will change btwn 0 to 255.   \n",
    "So using the same, we can find the color with its RGB values.\n",
    "\n",
    "- Create a black window with three color channels with resolution 512 x 512.   \n",
    "- Then create three ‘B' ‘G’ 'R’ trackbars using predefined functions of OpenCV library.   \n",
    "- Set the values of channels from 0 to 255. Merging the black window with these color trackbars.  \n",
    "\n",
    "~ Syntax:  \n",
    "    \n",
    "- **cv2.createTrackbar(\"trackbar_name\", \"Trackbar Windows\", minValue, maxValue, callback)** : create trackbar    \n",
    "- **cv2.setTrackbarPos(\"threshold\", \"Trackbar Windows\", 127)** : set trackbar(threshold) initial point(i.e. 127)\n",
    "- **cv2.setTrackbarPos(\"maxValue\", \"Trackbar Windows\", 255)** : set trackbar(maxValue) initial point(i.e. 255)\n",
    "    \n",
    "~ Parameters:    \n",
    "\n",
    ">- trackbar_name: trackbar name \n",
    ">- Trackbar Windows: window_name of trackbar\n",
    ">- minValue : minValue of trackbar\n",
    ">- maxValue : maxValue of trackbar  \n",
    "    \n",
    "~ Example:     "
   ]
  },
  {
   "cell_type": "code",
   "execution_count": null,
   "metadata": {},
   "outputs": [],
   "source": [
    "# Python program to create RGB color palette with trackbars \n",
    "import cv2\n",
    "import numpy as np\n",
    "   \n",
    "# empty function called when any trackbar moves\n",
    "def emptyFunction(x):\n",
    "    pass\n",
    "   \n",
    "def main():\n",
    "    image = np.zeros((512, 512, 3), np.uint8) # blackwindow having 3 color chanels\n",
    "    windowName =\"Open CV Color Palette\"\n",
    "    cv2.namedWindow(windowName) # window name \n",
    "       \n",
    "    # there trackbars which have the name of trackbars min and max value \n",
    "    cv2.createTrackbar('Blue', windowName, 0, 255, emptyFunction)\n",
    "    cv2.createTrackbar('Green', windowName, 0, 255, emptyFunction)\n",
    "    cv2.createTrackbar('Red', windowName, 0, 255, emptyFunction)\n",
    "       \n",
    "    # Used to open the window till press the ESC key\n",
    "    while(True):\n",
    "        cv2.imshow(windowName, image)\n",
    "          \n",
    "        if cv2.waitKey(0) == 27:\n",
    "            break\n",
    "          \n",
    "        # values of blue, green, red\n",
    "        blue = cv2.getTrackbarPos('Blue', windowName)\n",
    "        green = cv2.getTrackbarPos('Green', windowName)\n",
    "        red = cv2.getTrackbarPos('Red', windowName)\n",
    "          \n",
    "        # merge all three color chanels and make the image composites image from rgb   \n",
    "        image[:] = [blue, green, red]\n",
    "#         print(blue, green, red)\n",
    "           \n",
    "    cv2.destroyAllWindows()\n",
    "\n",
    "if __name__==\"__main__\":\n",
    "    main()"
   ]
  },
  {
   "cell_type": "code",
   "execution_count": 17,
   "metadata": {},
   "outputs": [],
   "source": [
    "# Example2 Binary Img\n",
    "import cv2\n",
    "\n",
    "def onChange(pos):\n",
    "    pass\n",
    "\n",
    "src = cv2.imread(\"./images/practice_img/flower1.webp\", cv2.IMREAD_GRAYSCALE)\n",
    "cv2.namedWindow(\"Trackbar Windows\")\n",
    "cv2.createTrackbar(\"threshold\", \"Trackbar Windows\", 0, 255, onChange)\n",
    "cv2.createTrackbar(\"maxValue\", \"Trackbar Windows\", 0, 255, lambda x : x)\n",
    "cv2.setTrackbarPos(\"threshold\", \"Trackbar Windows\", 127)\n",
    "cv2.setTrackbarPos(\"maxValue\", \"Trackbar Windows\", 255)\n",
    "\n",
    "while cv2.waitKey(0) != ord('q'):\n",
    "    thresh = cv2.getTrackbarPos(\"threshold\", \"Trackbar Windows\")\n",
    "    maxval = cv2.getTrackbarPos(\"maxValue\", \"Trackbar Windows\")\n",
    "    _, binary = cv2.threshold(src, thresh, maxval, cv2.THRESH_BINARY)\n",
    "    cv2.imshow(\"Trackbar Windows\", binary)\n",
    "cv2.destroyAllWindows()"
   ]
  },
  {
   "cell_type": "code",
   "execution_count": 5,
   "metadata": {},
   "outputs": [],
   "source": [
    "# Example 3 : controling size of circle with trackbar\n",
    "import cv2  \n",
    "import numpy as np\n",
    "\n",
    "#trackbar callback fucntion does nothing but required for trackbar\n",
    "def nothing(x):\n",
    "    pass\n",
    "\n",
    "cv2.namedWindow('controls', cv2.WINDOW_NORMAL) \n",
    "cv2.createTrackbar('Radius','controls',10, 255, nothing) # create trackbar in 'controls' window with name 'Trackbar_name' \n",
    "cv2.setTrackbarPos(\"Radius\", \"controls\", 50)\n",
    "\n",
    "# create a while loop act as refresh for the view \n",
    "while(1):\n",
    " \n",
    "    img = np.zeros((512,512,3), np.uint8) # create a black blank image\n",
    "    \n",
    "    img_center_y=img.shape[0]//2 # calculate center of image\n",
    "    img_center_x=img.shape[1]//2\n",
    "    \n",
    "    radius= int(cv2.getTrackbarPos('Radius','controls')) # returns current position/value of trackbar \n",
    "    cv2.circle(img,(img_center_y,img_center_x), radius, (0,0,255), -1) # draw a red circle\n",
    "    cv2.imshow('controls',img)\n",
    "\n",
    "    k = cv2.waitKey(1) & 0xFF\n",
    "    if k == 27:\n",
    "        break\n",
    "\n",
    "cv2.destroyAllWindows()"
   ]
  },
  {
   "cell_type": "code",
   "execution_count": 12,
   "metadata": {},
   "outputs": [
    {
     "name": "stdout",
     "output_type": "stream",
     "text": [
      "(475, 640, 3) (475, 640, 3)\n"
     ]
    }
   ],
   "source": [
    "# blending/changing A to B image\n",
    "import cv2\n",
    "import numpy as np\n",
    "\n",
    "win_name = 'Blending'     # window name\n",
    "trackbar_name = 'fade'          # trackbar name \n",
    "\n",
    "def same_size(img1, img2):\n",
    "    img2 = cv2.resize(img2,(img1.shape[1], img1.shape[0]))\n",
    "#     print(img1.shape, img2.shape) \n",
    "    return img2\n",
    "\n",
    "def onChange(x):\n",
    "    alpha = x/100\n",
    "    dst = cv2.addWeighted(img1, 1-alpha, img2, alpha, 0)\n",
    "    cv2.imshow(win_name, dst)\n",
    "\n",
    "img1 = cv2.imread('./images/practice_img/man_face.jpg') # actor.jpg\n",
    "img2 = cv2.imread('./images/practice_img/skull.jpg') # boy_face.jpg  Tom Cruise(Top Gun2).png\n",
    "img2 = same_size(img1, img2)\n",
    "\n",
    "cv2.imshow(win_name, img1)\n",
    "cv2.createTrackbar(trackbar_name, win_name, 0, 100, onChange)\n",
    "\n",
    "cv2.waitKey()\n",
    "cv2.destroyAllWindows()"
   ]
  }
 ],
 "metadata": {
  "kernelspec": {
   "display_name": "CV-py36",
   "language": "python",
   "name": "cv_py36"
  },
  "language_info": {
   "codemirror_mode": {
    "name": "ipython",
    "version": 3
   },
   "file_extension": ".py",
   "mimetype": "text/x-python",
   "name": "python",
   "nbconvert_exporter": "python",
   "pygments_lexer": "ipython3",
   "version": "3.6.13"
  }
 },
 "nbformat": 4,
 "nbformat_minor": 2
}
